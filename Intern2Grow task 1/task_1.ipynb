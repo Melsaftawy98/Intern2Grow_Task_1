{
 "cells": [
  {
   "cell_type": "code",
   "execution_count": 177,
   "id": "af6d9e22-9c03-4b3b-92f9-48b225461f08",
   "metadata": {},
   "outputs": [],
   "source": [
    "# Import required packages\n",
    "\n",
    "# Data packages\n",
    "import pandas as pd\n",
    "import numpy as np\n",
    "\n",
    "# Machine Learning / Classification packages\n",
    "from sklearn.metrics import roc_auc_score\n",
    "from sklearn.model_selection import train_test_split\n",
    "from sklearn.dummy import DummyClassifier\n",
    "\n",
    "# Visualization Packages\n",
    "from matplotlib import pyplot as plt\n",
    "import seaborn as sns\n",
    "%matplotlib inline"
   ]
  },
  {
   "cell_type": "code",
   "execution_count": 255,
   "id": "fbb1888b-4e51-419a-838e-f4b40930f72b",
   "metadata": {},
   "outputs": [],
   "source": [
    "from sklearn.model_selection import train_test_split\n",
    "from sklearn.linear_model import LinearRegression\n",
    "from sklearn.metrics import mean_absolute_error\n",
    "from sklearn.metrics import mean_squared_error"
   ]
  },
  {
   "cell_type": "code",
   "execution_count": 179,
   "id": "9558081a-6350-449d-80c4-b8952cc23b34",
   "metadata": {},
   "outputs": [
    {
     "name": "stdout",
     "output_type": "stream",
     "text": [
      "dataset Shape: (4000, 8)\n"
     ]
    },
    {
     "data": {
      "text/html": [
       "<div>\n",
       "<style scoped>\n",
       "    .dataframe tbody tr th:only-of-type {\n",
       "        vertical-align: middle;\n",
       "    }\n",
       "\n",
       "    .dataframe tbody tr th {\n",
       "        vertical-align: top;\n",
       "    }\n",
       "\n",
       "    .dataframe thead th {\n",
       "        text-align: right;\n",
       "    }\n",
       "</style>\n",
       "<table border=\"1\" class=\"dataframe\">\n",
       "  <thead>\n",
       "    <tr style=\"text-align: right;\">\n",
       "      <th></th>\n",
       "      <th>Sold_On</th>\n",
       "      <th>Size</th>\n",
       "      <th>Ingredients_Cost</th>\n",
       "      <th>Design_Complexity</th>\n",
       "      <th>Time_Taken</th>\n",
       "      <th>Price</th>\n",
       "      <th>Amount</th>\n",
       "      <th>Gender</th>\n",
       "    </tr>\n",
       "  </thead>\n",
       "  <tbody>\n",
       "    <tr>\n",
       "      <th>0</th>\n",
       "      <td>Monday</td>\n",
       "      <td>large</td>\n",
       "      <td>28</td>\n",
       "      <td>complex</td>\n",
       "      <td>6</td>\n",
       "      <td>49</td>\n",
       "      <td>10</td>\n",
       "      <td>female</td>\n",
       "    </tr>\n",
       "    <tr>\n",
       "      <th>1</th>\n",
       "      <td>Saturday</td>\n",
       "      <td>medium</td>\n",
       "      <td>65</td>\n",
       "      <td>simple</td>\n",
       "      <td>2</td>\n",
       "      <td>93</td>\n",
       "      <td>9</td>\n",
       "      <td>female</td>\n",
       "    </tr>\n",
       "    <tr>\n",
       "      <th>2</th>\n",
       "      <td>Wednesday</td>\n",
       "      <td>large</td>\n",
       "      <td>96</td>\n",
       "      <td>simple</td>\n",
       "      <td>5</td>\n",
       "      <td>128</td>\n",
       "      <td>8</td>\n",
       "      <td>male</td>\n",
       "    </tr>\n",
       "    <tr>\n",
       "      <th>3</th>\n",
       "      <td>Tuesday</td>\n",
       "      <td>medium</td>\n",
       "      <td>155</td>\n",
       "      <td>simple</td>\n",
       "      <td>3</td>\n",
       "      <td>198</td>\n",
       "      <td>6</td>\n",
       "      <td>female</td>\n",
       "    </tr>\n",
       "    <tr>\n",
       "      <th>4</th>\n",
       "      <td>Saturday</td>\n",
       "      <td>large</td>\n",
       "      <td>20</td>\n",
       "      <td>simple</td>\n",
       "      <td>2</td>\n",
       "      <td>32</td>\n",
       "      <td>5</td>\n",
       "      <td>male</td>\n",
       "    </tr>\n",
       "  </tbody>\n",
       "</table>\n",
       "</div>"
      ],
      "text/plain": [
       "     Sold_On    Size  Ingredients_Cost Design_Complexity  Time_Taken  Price  \\\n",
       "0     Monday   large                28           complex           6     49   \n",
       "1   Saturday  medium                65            simple           2     93   \n",
       "2  Wednesday   large                96            simple           5    128   \n",
       "3    Tuesday  medium               155            simple           3    198   \n",
       "4   Saturday   large                20            simple           2     32   \n",
       "\n",
       "   Amount  Gender  \n",
       "0      10  female  \n",
       "1       9  female  \n",
       "2       8    male  \n",
       "3       6  female  \n",
       "4       5    male  "
      ]
     },
     "execution_count": 179,
     "metadata": {},
     "output_type": "execute_result"
    }
   ],
   "source": [
    "df = pd.read_csv(r\"C:\\Users\\Lenovo\\Downloads\\Intern2Grow task 1\\dataset.csv\")\n",
    "print('dataset Shape:', df.shape)\n",
    "df.head()"
   ]
  },
  {
   "cell_type": "markdown",
   "id": "eb45e5c0-2886-44f5-ab3f-954c8dcc2d21",
   "metadata": {},
   "source": [
    "## 1. Data Preprocessing"
   ]
  },
  {
   "cell_type": "code",
   "execution_count": 180,
   "id": "62be2728-5474-40c8-a7e2-15e9be038e05",
   "metadata": {},
   "outputs": [
    {
     "data": {
      "text/plain": [
       "Sold_On              object\n",
       "Size                 object\n",
       "Ingredients_Cost      int64\n",
       "Design_Complexity    object\n",
       "Time_Taken            int64\n",
       "Price                 int64\n",
       "Amount                int64\n",
       "Gender               object\n",
       "dtype: object"
      ]
     },
     "execution_count": 180,
     "metadata": {},
     "output_type": "execute_result"
    }
   ],
   "source": [
    "df.dtypes"
   ]
  },
  {
   "cell_type": "code",
   "execution_count": 181,
   "id": "be58816e-2c21-4912-a666-2c20a54ef94e",
   "metadata": {},
   "outputs": [
    {
     "data": {
      "text/plain": [
       "Sold_On              0.0\n",
       "Size                 0.0\n",
       "Ingredients_Cost     0.0\n",
       "Design_Complexity    0.0\n",
       "Time_Taken           0.0\n",
       "Price                0.0\n",
       "Amount               0.0\n",
       "Gender               0.0\n",
       "dtype: float64"
      ]
     },
     "execution_count": 181,
     "metadata": {},
     "output_type": "execute_result"
    }
   ],
   "source": [
    "#check for missing values\n",
    "df.isnull().sum()/len(df)*100"
   ]
  },
  {
   "cell_type": "markdown",
   "id": "f3b82936-a7ed-432e-9bb2-0435aff7ef47",
   "metadata": {},
   "source": [
    "### Check for unique values"
   ]
  },
  {
   "cell_type": "code",
   "execution_count": 183,
   "id": "53c22bde-1793-457b-ac11-9d173a0dbb0f",
   "metadata": {},
   "outputs": [
    {
     "data": {
      "text/plain": [
       "array(['Monday', 'Saturday', 'Wednesday', 'Tuesday', 'Sunday', 'Thursday',\n",
       "       'Friday'], dtype=object)"
      ]
     },
     "execution_count": 183,
     "metadata": {},
     "output_type": "execute_result"
    }
   ],
   "source": [
    "df['Sold_On'].unique()"
   ]
  },
  {
   "cell_type": "code",
   "execution_count": 184,
   "id": "8011fbe1-490c-4be8-99ac-435e1559bfd7",
   "metadata": {},
   "outputs": [
    {
     "data": {
      "text/plain": [
       "array(['large', 'medium', 'small'], dtype=object)"
      ]
     },
     "execution_count": 184,
     "metadata": {},
     "output_type": "execute_result"
    }
   ],
   "source": [
    "df['Size'].unique()"
   ]
  },
  {
   "cell_type": "code",
   "execution_count": 185,
   "id": "5b5b545d-0daf-4158-a45b-2dfc7a5f986a",
   "metadata": {},
   "outputs": [
    {
     "data": {
      "text/plain": [
       "array(['complex', 'simple'], dtype=object)"
      ]
     },
     "execution_count": 185,
     "metadata": {},
     "output_type": "execute_result"
    }
   ],
   "source": [
    "df['Design_Complexity'].unique()"
   ]
  },
  {
   "cell_type": "code",
   "execution_count": 186,
   "id": "933d131d-f023-46f5-97cc-4606bd66d107",
   "metadata": {},
   "outputs": [
    {
     "data": {
      "text/plain": [
       "array(['female', 'male'], dtype=object)"
      ]
     },
     "execution_count": 186,
     "metadata": {},
     "output_type": "execute_result"
    }
   ],
   "source": [
    "df['Gender'].unique()"
   ]
  },
  {
   "cell_type": "markdown",
   "id": "8444b4cf-1deb-4519-9d0d-67e5a7a3befc",
   "metadata": {},
   "source": [
    "### Convert 'Gender' and 'Design_Complexity' to binary "
   ]
  },
  {
   "cell_type": "code",
   "execution_count": 188,
   "id": "68cfaac1-5a13-44a4-ae00-cd8a159c9964",
   "metadata": {},
   "outputs": [],
   "source": [
    "column_gender = ['Gender']\n",
    "df[column_gender]=df[column_gender].apply(lambda x: x.map({'female': 1, 'male':0}))"
   ]
  },
  {
   "cell_type": "code",
   "execution_count": 189,
   "id": "0fcda6cd-594b-4edd-8deb-15e764480467",
   "metadata": {},
   "outputs": [],
   "source": [
    "column_design = ['Design_Complexity']\n",
    "df[column_design]=df[column_design].apply(lambda x: x.map({'complex': 1, 'simple':0}))"
   ]
  },
  {
   "cell_type": "code",
   "execution_count": 190,
   "id": "699beab7-bba2-4b94-aa87-64ab0e806dd4",
   "metadata": {},
   "outputs": [
    {
     "data": {
      "text/html": [
       "<div>\n",
       "<style scoped>\n",
       "    .dataframe tbody tr th:only-of-type {\n",
       "        vertical-align: middle;\n",
       "    }\n",
       "\n",
       "    .dataframe tbody tr th {\n",
       "        vertical-align: top;\n",
       "    }\n",
       "\n",
       "    .dataframe thead th {\n",
       "        text-align: right;\n",
       "    }\n",
       "</style>\n",
       "<table border=\"1\" class=\"dataframe\">\n",
       "  <thead>\n",
       "    <tr style=\"text-align: right;\">\n",
       "      <th></th>\n",
       "      <th>Sold_On</th>\n",
       "      <th>Size</th>\n",
       "      <th>Ingredients_Cost</th>\n",
       "      <th>Design_Complexity</th>\n",
       "      <th>Time_Taken</th>\n",
       "      <th>Price</th>\n",
       "      <th>Amount</th>\n",
       "      <th>Gender</th>\n",
       "    </tr>\n",
       "  </thead>\n",
       "  <tbody>\n",
       "    <tr>\n",
       "      <th>0</th>\n",
       "      <td>Monday</td>\n",
       "      <td>large</td>\n",
       "      <td>28</td>\n",
       "      <td>1</td>\n",
       "      <td>6</td>\n",
       "      <td>49</td>\n",
       "      <td>10</td>\n",
       "      <td>1</td>\n",
       "    </tr>\n",
       "    <tr>\n",
       "      <th>1</th>\n",
       "      <td>Saturday</td>\n",
       "      <td>medium</td>\n",
       "      <td>65</td>\n",
       "      <td>0</td>\n",
       "      <td>2</td>\n",
       "      <td>93</td>\n",
       "      <td>9</td>\n",
       "      <td>1</td>\n",
       "    </tr>\n",
       "    <tr>\n",
       "      <th>2</th>\n",
       "      <td>Wednesday</td>\n",
       "      <td>large</td>\n",
       "      <td>96</td>\n",
       "      <td>0</td>\n",
       "      <td>5</td>\n",
       "      <td>128</td>\n",
       "      <td>8</td>\n",
       "      <td>0</td>\n",
       "    </tr>\n",
       "    <tr>\n",
       "      <th>3</th>\n",
       "      <td>Tuesday</td>\n",
       "      <td>medium</td>\n",
       "      <td>155</td>\n",
       "      <td>0</td>\n",
       "      <td>3</td>\n",
       "      <td>198</td>\n",
       "      <td>6</td>\n",
       "      <td>1</td>\n",
       "    </tr>\n",
       "    <tr>\n",
       "      <th>4</th>\n",
       "      <td>Saturday</td>\n",
       "      <td>large</td>\n",
       "      <td>20</td>\n",
       "      <td>0</td>\n",
       "      <td>2</td>\n",
       "      <td>32</td>\n",
       "      <td>5</td>\n",
       "      <td>0</td>\n",
       "    </tr>\n",
       "  </tbody>\n",
       "</table>\n",
       "</div>"
      ],
      "text/plain": [
       "     Sold_On    Size  Ingredients_Cost  Design_Complexity  Time_Taken  Price  \\\n",
       "0     Monday   large                28                  1           6     49   \n",
       "1   Saturday  medium                65                  0           2     93   \n",
       "2  Wednesday   large                96                  0           5    128   \n",
       "3    Tuesday  medium               155                  0           3    198   \n",
       "4   Saturday   large                20                  0           2     32   \n",
       "\n",
       "   Amount  Gender  \n",
       "0      10       1  \n",
       "1       9       1  \n",
       "2       8       0  \n",
       "3       6       1  \n",
       "4       5       0  "
      ]
     },
     "execution_count": 190,
     "metadata": {},
     "output_type": "execute_result"
    }
   ],
   "source": [
    "df.head()"
   ]
  },
  {
   "cell_type": "code",
   "execution_count": 191,
   "id": "26a08e00-7d36-4cdf-a588-3d59cc491327",
   "metadata": {},
   "outputs": [],
   "source": [
    "# one-hot encode specific columns\n",
    "df = pd.get_dummies(df, columns=['Sold_On', 'Size'])"
   ]
  },
  {
   "cell_type": "code",
   "execution_count": 192,
   "id": "fb3bcf93-1af9-4ab2-9194-e66297fd0ed0",
   "metadata": {},
   "outputs": [
    {
     "data": {
      "text/html": [
       "<div>\n",
       "<style scoped>\n",
       "    .dataframe tbody tr th:only-of-type {\n",
       "        vertical-align: middle;\n",
       "    }\n",
       "\n",
       "    .dataframe tbody tr th {\n",
       "        vertical-align: top;\n",
       "    }\n",
       "\n",
       "    .dataframe thead th {\n",
       "        text-align: right;\n",
       "    }\n",
       "</style>\n",
       "<table border=\"1\" class=\"dataframe\">\n",
       "  <thead>\n",
       "    <tr style=\"text-align: right;\">\n",
       "      <th></th>\n",
       "      <th>Ingredients_Cost</th>\n",
       "      <th>Design_Complexity</th>\n",
       "      <th>Time_Taken</th>\n",
       "      <th>Price</th>\n",
       "      <th>Amount</th>\n",
       "      <th>Gender</th>\n",
       "      <th>Sold_On_Friday</th>\n",
       "      <th>Sold_On_Monday</th>\n",
       "      <th>Sold_On_Saturday</th>\n",
       "      <th>Sold_On_Sunday</th>\n",
       "      <th>Sold_On_Thursday</th>\n",
       "      <th>Sold_On_Tuesday</th>\n",
       "      <th>Sold_On_Wednesday</th>\n",
       "      <th>Size_large</th>\n",
       "      <th>Size_medium</th>\n",
       "      <th>Size_small</th>\n",
       "    </tr>\n",
       "  </thead>\n",
       "  <tbody>\n",
       "    <tr>\n",
       "      <th>0</th>\n",
       "      <td>28</td>\n",
       "      <td>1</td>\n",
       "      <td>6</td>\n",
       "      <td>49</td>\n",
       "      <td>10</td>\n",
       "      <td>1</td>\n",
       "      <td>False</td>\n",
       "      <td>True</td>\n",
       "      <td>False</td>\n",
       "      <td>False</td>\n",
       "      <td>False</td>\n",
       "      <td>False</td>\n",
       "      <td>False</td>\n",
       "      <td>True</td>\n",
       "      <td>False</td>\n",
       "      <td>False</td>\n",
       "    </tr>\n",
       "    <tr>\n",
       "      <th>1</th>\n",
       "      <td>65</td>\n",
       "      <td>0</td>\n",
       "      <td>2</td>\n",
       "      <td>93</td>\n",
       "      <td>9</td>\n",
       "      <td>1</td>\n",
       "      <td>False</td>\n",
       "      <td>False</td>\n",
       "      <td>True</td>\n",
       "      <td>False</td>\n",
       "      <td>False</td>\n",
       "      <td>False</td>\n",
       "      <td>False</td>\n",
       "      <td>False</td>\n",
       "      <td>True</td>\n",
       "      <td>False</td>\n",
       "    </tr>\n",
       "    <tr>\n",
       "      <th>2</th>\n",
       "      <td>96</td>\n",
       "      <td>0</td>\n",
       "      <td>5</td>\n",
       "      <td>128</td>\n",
       "      <td>8</td>\n",
       "      <td>0</td>\n",
       "      <td>False</td>\n",
       "      <td>False</td>\n",
       "      <td>False</td>\n",
       "      <td>False</td>\n",
       "      <td>False</td>\n",
       "      <td>False</td>\n",
       "      <td>True</td>\n",
       "      <td>True</td>\n",
       "      <td>False</td>\n",
       "      <td>False</td>\n",
       "    </tr>\n",
       "    <tr>\n",
       "      <th>3</th>\n",
       "      <td>155</td>\n",
       "      <td>0</td>\n",
       "      <td>3</td>\n",
       "      <td>198</td>\n",
       "      <td>6</td>\n",
       "      <td>1</td>\n",
       "      <td>False</td>\n",
       "      <td>False</td>\n",
       "      <td>False</td>\n",
       "      <td>False</td>\n",
       "      <td>False</td>\n",
       "      <td>True</td>\n",
       "      <td>False</td>\n",
       "      <td>False</td>\n",
       "      <td>True</td>\n",
       "      <td>False</td>\n",
       "    </tr>\n",
       "    <tr>\n",
       "      <th>4</th>\n",
       "      <td>20</td>\n",
       "      <td>0</td>\n",
       "      <td>2</td>\n",
       "      <td>32</td>\n",
       "      <td>5</td>\n",
       "      <td>0</td>\n",
       "      <td>False</td>\n",
       "      <td>False</td>\n",
       "      <td>True</td>\n",
       "      <td>False</td>\n",
       "      <td>False</td>\n",
       "      <td>False</td>\n",
       "      <td>False</td>\n",
       "      <td>True</td>\n",
       "      <td>False</td>\n",
       "      <td>False</td>\n",
       "    </tr>\n",
       "  </tbody>\n",
       "</table>\n",
       "</div>"
      ],
      "text/plain": [
       "   Ingredients_Cost  Design_Complexity  Time_Taken  Price  Amount  Gender  \\\n",
       "0                28                  1           6     49      10       1   \n",
       "1                65                  0           2     93       9       1   \n",
       "2                96                  0           5    128       8       0   \n",
       "3               155                  0           3    198       6       1   \n",
       "4                20                  0           2     32       5       0   \n",
       "\n",
       "   Sold_On_Friday  Sold_On_Monday  Sold_On_Saturday  Sold_On_Sunday  \\\n",
       "0           False            True             False           False   \n",
       "1           False           False              True           False   \n",
       "2           False           False             False           False   \n",
       "3           False           False             False           False   \n",
       "4           False           False              True           False   \n",
       "\n",
       "   Sold_On_Thursday  Sold_On_Tuesday  Sold_On_Wednesday  Size_large  \\\n",
       "0             False            False              False        True   \n",
       "1             False            False              False       False   \n",
       "2             False            False               True        True   \n",
       "3             False             True              False       False   \n",
       "4             False            False              False        True   \n",
       "\n",
       "   Size_medium  Size_small  \n",
       "0        False       False  \n",
       "1         True       False  \n",
       "2        False       False  \n",
       "3         True       False  \n",
       "4        False       False  "
      ]
     },
     "execution_count": 192,
     "metadata": {},
     "output_type": "execute_result"
    }
   ],
   "source": [
    "df.head()"
   ]
  },
  {
   "cell_type": "code",
   "execution_count": 196,
   "id": "af437ba5-f114-4751-99a5-249c9ab2aeb8",
   "metadata": {},
   "outputs": [],
   "source": [
    "#convert bool to integer\n",
    "one_hot_encode = df.select_dtypes(bool)\n",
    "df[one_hot_encode.columns] = one_hot_encode.astype('int64')"
   ]
  },
  {
   "cell_type": "code",
   "execution_count": 197,
   "id": "b3001ae6-36b5-42a1-b6c8-63fb7c7d3407",
   "metadata": {},
   "outputs": [
    {
     "data": {
      "text/html": [
       "<div>\n",
       "<style scoped>\n",
       "    .dataframe tbody tr th:only-of-type {\n",
       "        vertical-align: middle;\n",
       "    }\n",
       "\n",
       "    .dataframe tbody tr th {\n",
       "        vertical-align: top;\n",
       "    }\n",
       "\n",
       "    .dataframe thead th {\n",
       "        text-align: right;\n",
       "    }\n",
       "</style>\n",
       "<table border=\"1\" class=\"dataframe\">\n",
       "  <thead>\n",
       "    <tr style=\"text-align: right;\">\n",
       "      <th></th>\n",
       "      <th>Ingredients_Cost</th>\n",
       "      <th>Design_Complexity</th>\n",
       "      <th>Time_Taken</th>\n",
       "      <th>Price</th>\n",
       "      <th>Amount</th>\n",
       "      <th>Gender</th>\n",
       "      <th>Sold_On_Friday</th>\n",
       "      <th>Sold_On_Monday</th>\n",
       "      <th>Sold_On_Saturday</th>\n",
       "      <th>Sold_On_Sunday</th>\n",
       "      <th>Sold_On_Thursday</th>\n",
       "      <th>Sold_On_Tuesday</th>\n",
       "      <th>Sold_On_Wednesday</th>\n",
       "      <th>Size_large</th>\n",
       "      <th>Size_medium</th>\n",
       "      <th>Size_small</th>\n",
       "    </tr>\n",
       "  </thead>\n",
       "  <tbody>\n",
       "    <tr>\n",
       "      <th>0</th>\n",
       "      <td>28</td>\n",
       "      <td>1</td>\n",
       "      <td>6</td>\n",
       "      <td>49</td>\n",
       "      <td>10</td>\n",
       "      <td>1</td>\n",
       "      <td>0</td>\n",
       "      <td>1</td>\n",
       "      <td>0</td>\n",
       "      <td>0</td>\n",
       "      <td>0</td>\n",
       "      <td>0</td>\n",
       "      <td>0</td>\n",
       "      <td>1</td>\n",
       "      <td>0</td>\n",
       "      <td>0</td>\n",
       "    </tr>\n",
       "    <tr>\n",
       "      <th>1</th>\n",
       "      <td>65</td>\n",
       "      <td>0</td>\n",
       "      <td>2</td>\n",
       "      <td>93</td>\n",
       "      <td>9</td>\n",
       "      <td>1</td>\n",
       "      <td>0</td>\n",
       "      <td>0</td>\n",
       "      <td>1</td>\n",
       "      <td>0</td>\n",
       "      <td>0</td>\n",
       "      <td>0</td>\n",
       "      <td>0</td>\n",
       "      <td>0</td>\n",
       "      <td>1</td>\n",
       "      <td>0</td>\n",
       "    </tr>\n",
       "    <tr>\n",
       "      <th>2</th>\n",
       "      <td>96</td>\n",
       "      <td>0</td>\n",
       "      <td>5</td>\n",
       "      <td>128</td>\n",
       "      <td>8</td>\n",
       "      <td>0</td>\n",
       "      <td>0</td>\n",
       "      <td>0</td>\n",
       "      <td>0</td>\n",
       "      <td>0</td>\n",
       "      <td>0</td>\n",
       "      <td>0</td>\n",
       "      <td>1</td>\n",
       "      <td>1</td>\n",
       "      <td>0</td>\n",
       "      <td>0</td>\n",
       "    </tr>\n",
       "    <tr>\n",
       "      <th>3</th>\n",
       "      <td>155</td>\n",
       "      <td>0</td>\n",
       "      <td>3</td>\n",
       "      <td>198</td>\n",
       "      <td>6</td>\n",
       "      <td>1</td>\n",
       "      <td>0</td>\n",
       "      <td>0</td>\n",
       "      <td>0</td>\n",
       "      <td>0</td>\n",
       "      <td>0</td>\n",
       "      <td>1</td>\n",
       "      <td>0</td>\n",
       "      <td>0</td>\n",
       "      <td>1</td>\n",
       "      <td>0</td>\n",
       "    </tr>\n",
       "    <tr>\n",
       "      <th>4</th>\n",
       "      <td>20</td>\n",
       "      <td>0</td>\n",
       "      <td>2</td>\n",
       "      <td>32</td>\n",
       "      <td>5</td>\n",
       "      <td>0</td>\n",
       "      <td>0</td>\n",
       "      <td>0</td>\n",
       "      <td>1</td>\n",
       "      <td>0</td>\n",
       "      <td>0</td>\n",
       "      <td>0</td>\n",
       "      <td>0</td>\n",
       "      <td>1</td>\n",
       "      <td>0</td>\n",
       "      <td>0</td>\n",
       "    </tr>\n",
       "  </tbody>\n",
       "</table>\n",
       "</div>"
      ],
      "text/plain": [
       "   Ingredients_Cost  Design_Complexity  Time_Taken  Price  Amount  Gender  \\\n",
       "0                28                  1           6     49      10       1   \n",
       "1                65                  0           2     93       9       1   \n",
       "2                96                  0           5    128       8       0   \n",
       "3               155                  0           3    198       6       1   \n",
       "4                20                  0           2     32       5       0   \n",
       "\n",
       "   Sold_On_Friday  Sold_On_Monday  Sold_On_Saturday  Sold_On_Sunday  \\\n",
       "0               0               1                 0               0   \n",
       "1               0               0                 1               0   \n",
       "2               0               0                 0               0   \n",
       "3               0               0                 0               0   \n",
       "4               0               0                 1               0   \n",
       "\n",
       "   Sold_On_Thursday  Sold_On_Tuesday  Sold_On_Wednesday  Size_large  \\\n",
       "0                 0                0                  0           1   \n",
       "1                 0                0                  0           0   \n",
       "2                 0                0                  1           1   \n",
       "3                 0                1                  0           0   \n",
       "4                 0                0                  0           1   \n",
       "\n",
       "   Size_medium  Size_small  \n",
       "0            0           0  \n",
       "1            1           0  \n",
       "2            0           0  \n",
       "3            1           0  \n",
       "4            0           0  "
      ]
     },
     "execution_count": 197,
     "metadata": {},
     "output_type": "execute_result"
    }
   ],
   "source": [
    "df.head()"
   ]
  },
  {
   "cell_type": "code",
   "execution_count": 198,
   "id": "3d9d2b44-e8b9-4abe-bef8-4bfbd859ba90",
   "metadata": {},
   "outputs": [],
   "source": [
    "#normalize numeric columns using standard scalar\n",
    "from sklearn.preprocessing import MinMaxScaler\n",
    "\n",
    "numeric_columns =['Ingredients_Cost','Time_Taken','Amount']\n",
    "scaler = MinMaxScaler() \n",
    "df[numeric_columns] = scaler.fit_transform(df[numeric_columns])\n"
   ]
  },
  {
   "cell_type": "code",
   "execution_count": 199,
   "id": "3281776f-1a04-411e-adeb-fae79bc76e8b",
   "metadata": {},
   "outputs": [
    {
     "data": {
      "text/html": [
       "<div>\n",
       "<style scoped>\n",
       "    .dataframe tbody tr th:only-of-type {\n",
       "        vertical-align: middle;\n",
       "    }\n",
       "\n",
       "    .dataframe tbody tr th {\n",
       "        vertical-align: top;\n",
       "    }\n",
       "\n",
       "    .dataframe thead th {\n",
       "        text-align: right;\n",
       "    }\n",
       "</style>\n",
       "<table border=\"1\" class=\"dataframe\">\n",
       "  <thead>\n",
       "    <tr style=\"text-align: right;\">\n",
       "      <th></th>\n",
       "      <th>Ingredients_Cost</th>\n",
       "      <th>Design_Complexity</th>\n",
       "      <th>Time_Taken</th>\n",
       "      <th>Price</th>\n",
       "      <th>Amount</th>\n",
       "      <th>Gender</th>\n",
       "      <th>Sold_On_Friday</th>\n",
       "      <th>Sold_On_Monday</th>\n",
       "      <th>Sold_On_Saturday</th>\n",
       "      <th>Sold_On_Sunday</th>\n",
       "      <th>Sold_On_Thursday</th>\n",
       "      <th>Sold_On_Tuesday</th>\n",
       "      <th>Sold_On_Wednesday</th>\n",
       "      <th>Size_large</th>\n",
       "      <th>Size_medium</th>\n",
       "      <th>Size_small</th>\n",
       "    </tr>\n",
       "  </thead>\n",
       "  <tbody>\n",
       "    <tr>\n",
       "      <th>0</th>\n",
       "      <td>0.090</td>\n",
       "      <td>1</td>\n",
       "      <td>0.5</td>\n",
       "      <td>49</td>\n",
       "      <td>1.000000</td>\n",
       "      <td>1</td>\n",
       "      <td>0</td>\n",
       "      <td>1</td>\n",
       "      <td>0</td>\n",
       "      <td>0</td>\n",
       "      <td>0</td>\n",
       "      <td>0</td>\n",
       "      <td>0</td>\n",
       "      <td>1</td>\n",
       "      <td>0</td>\n",
       "      <td>0</td>\n",
       "    </tr>\n",
       "    <tr>\n",
       "      <th>1</th>\n",
       "      <td>0.275</td>\n",
       "      <td>0</td>\n",
       "      <td>0.1</td>\n",
       "      <td>93</td>\n",
       "      <td>0.888889</td>\n",
       "      <td>1</td>\n",
       "      <td>0</td>\n",
       "      <td>0</td>\n",
       "      <td>1</td>\n",
       "      <td>0</td>\n",
       "      <td>0</td>\n",
       "      <td>0</td>\n",
       "      <td>0</td>\n",
       "      <td>0</td>\n",
       "      <td>1</td>\n",
       "      <td>0</td>\n",
       "    </tr>\n",
       "    <tr>\n",
       "      <th>2</th>\n",
       "      <td>0.430</td>\n",
       "      <td>0</td>\n",
       "      <td>0.4</td>\n",
       "      <td>128</td>\n",
       "      <td>0.777778</td>\n",
       "      <td>0</td>\n",
       "      <td>0</td>\n",
       "      <td>0</td>\n",
       "      <td>0</td>\n",
       "      <td>0</td>\n",
       "      <td>0</td>\n",
       "      <td>0</td>\n",
       "      <td>1</td>\n",
       "      <td>1</td>\n",
       "      <td>0</td>\n",
       "      <td>0</td>\n",
       "    </tr>\n",
       "    <tr>\n",
       "      <th>3</th>\n",
       "      <td>0.725</td>\n",
       "      <td>0</td>\n",
       "      <td>0.2</td>\n",
       "      <td>198</td>\n",
       "      <td>0.555556</td>\n",
       "      <td>1</td>\n",
       "      <td>0</td>\n",
       "      <td>0</td>\n",
       "      <td>0</td>\n",
       "      <td>0</td>\n",
       "      <td>0</td>\n",
       "      <td>1</td>\n",
       "      <td>0</td>\n",
       "      <td>0</td>\n",
       "      <td>1</td>\n",
       "      <td>0</td>\n",
       "    </tr>\n",
       "    <tr>\n",
       "      <th>4</th>\n",
       "      <td>0.050</td>\n",
       "      <td>0</td>\n",
       "      <td>0.1</td>\n",
       "      <td>32</td>\n",
       "      <td>0.444444</td>\n",
       "      <td>0</td>\n",
       "      <td>0</td>\n",
       "      <td>0</td>\n",
       "      <td>1</td>\n",
       "      <td>0</td>\n",
       "      <td>0</td>\n",
       "      <td>0</td>\n",
       "      <td>0</td>\n",
       "      <td>1</td>\n",
       "      <td>0</td>\n",
       "      <td>0</td>\n",
       "    </tr>\n",
       "  </tbody>\n",
       "</table>\n",
       "</div>"
      ],
      "text/plain": [
       "   Ingredients_Cost  Design_Complexity  Time_Taken  Price    Amount  Gender  \\\n",
       "0             0.090                  1         0.5     49  1.000000       1   \n",
       "1             0.275                  0         0.1     93  0.888889       1   \n",
       "2             0.430                  0         0.4    128  0.777778       0   \n",
       "3             0.725                  0         0.2    198  0.555556       1   \n",
       "4             0.050                  0         0.1     32  0.444444       0   \n",
       "\n",
       "   Sold_On_Friday  Sold_On_Monday  Sold_On_Saturday  Sold_On_Sunday  \\\n",
       "0               0               1                 0               0   \n",
       "1               0               0                 1               0   \n",
       "2               0               0                 0               0   \n",
       "3               0               0                 0               0   \n",
       "4               0               0                 1               0   \n",
       "\n",
       "   Sold_On_Thursday  Sold_On_Tuesday  Sold_On_Wednesday  Size_large  \\\n",
       "0                 0                0                  0           1   \n",
       "1                 0                0                  0           0   \n",
       "2                 0                0                  1           1   \n",
       "3                 0                1                  0           0   \n",
       "4                 0                0                  0           1   \n",
       "\n",
       "   Size_medium  Size_small  \n",
       "0            0           0  \n",
       "1            1           0  \n",
       "2            0           0  \n",
       "3            1           0  \n",
       "4            0           0  "
      ]
     },
     "execution_count": 199,
     "metadata": {},
     "output_type": "execute_result"
    }
   ],
   "source": [
    "df.head()"
   ]
  },
  {
   "cell_type": "code",
   "execution_count": 200,
   "id": "ecbf5b02-99a7-45ec-87c3-cff41cdcaae7",
   "metadata": {},
   "outputs": [
    {
     "data": {
      "text/plain": [
       "(array([ 85.,  68., 105.,  79., 106.,  84.,  98.,  70.,  85.,  89.,  77.,\n",
       "         90.,  67., 101.,  81.,  92.,  96.,  67.,  98.,  81.,  90.,  96.,\n",
       "         92.,  89.,  91.,  83.,  88.,  80.,  92., 100.,  76., 101.,  95.,\n",
       "        103.,  88., 100.,  88.,  78., 106.,  86.,  98.,  83.,  97.,  82.,\n",
       "         99.]),\n",
       " array([0.        , 0.02222222, 0.04444444, 0.06666667, 0.08888889,\n",
       "        0.11111111, 0.13333333, 0.15555556, 0.17777778, 0.2       ,\n",
       "        0.22222222, 0.24444444, 0.26666667, 0.28888889, 0.31111111,\n",
       "        0.33333333, 0.35555556, 0.37777778, 0.4       , 0.42222222,\n",
       "        0.44444444, 0.46666667, 0.48888889, 0.51111111, 0.53333333,\n",
       "        0.55555556, 0.57777778, 0.6       , 0.62222222, 0.64444444,\n",
       "        0.66666667, 0.68888889, 0.71111111, 0.73333333, 0.75555556,\n",
       "        0.77777778, 0.8       , 0.82222222, 0.84444444, 0.86666667,\n",
       "        0.88888889, 0.91111111, 0.93333333, 0.95555556, 0.97777778,\n",
       "        1.        ]),\n",
       " <BarContainer object of 45 artists>)"
      ]
     },
     "execution_count": 200,
     "metadata": {},
     "output_type": "execute_result"
    },
    {
     "data": {
      "image/png": "[encoded data removed]",
      "text/plain": [
       "<Figure size 640x480 with 1 Axes>"
      ]
     },
     "metadata": {},
     "output_type": "display_data"
    }
   ],
   "source": [
    "x = df['Ingredients_Cost']\n",
    "plt.hist(x, bins=45)"
   ]
  },
  {
   "cell_type": "markdown",
   "id": "d82c12c7-9d2c-40e1-8c6b-a96ca1085d53",
   "metadata": {},
   "source": [
    "## 2. Feature Selection"
   ]
  },
  {
   "cell_type": "code",
   "execution_count": 231,
   "id": "bc0f590b-9a17-4432-a227-a608f94deae8",
   "metadata": {},
   "outputs": [],
   "source": [
    "#  feature\n",
    "x = df.drop([\"Price\"], axis=1)\n",
    "# target\n",
    "y = df['Price']"
   ]
  },
  {
   "cell_type": "markdown",
   "id": "0cf3c6e6-1cb8-4e5f-a185-4777f0d2f1be",
   "metadata": {},
   "source": [
    "## 3. Model Selection and Training"
   ]
  },
  {
   "cell_type": "markdown",
   "id": "1a069959-2dce-49a3-92f9-db92816ee716",
   "metadata": {},
   "source": [
    "#### Since the target is numerical, I chose the Linear Regression model as it is the simplest model for this dataset"
   ]
  },
  {
   "cell_type": "code",
   "execution_count": 259,
   "id": "e1502860-3d76-4f5a-9429-ec7dba2571a0",
   "metadata": {},
   "outputs": [
    {
     "name": "stdout",
     "output_type": "stream",
     "text": [
      "R-squared:  0.9739566140915313\n",
      "RMSE:  11.897196360907893\n",
      "MAE:  9.744375\n"
     ]
    }
   ],
   "source": [
    "from sklearn.metrics import r2_score\n",
    "\n",
    "x_train, x_test, y_train, y_test = train_test_split(x, y, test_size=0.2, random_state=42)\n",
    "# Fit the model on the training data\n",
    "lm.fit(x_train, y_train)\n",
    "\n",
    "# Predict on the test data\n",
    "y_pred = lm.predict(x_test)\n",
    "\n",
    "# R-squared\n",
    "r_squared = r2_score(y_test, y_pred)\n",
    "print(\"R-squared: \", r_squared)\n",
    "\n",
    "# RMSE\n",
    "rmse = np.sqrt(mean_squared_error(y_test, y_pred))\n",
    "print(\"RMSE: \", rmse)\n",
    "\n",
    "# MAE\n",
    "mae = mean_absolute_error(y_test, y_pred)\n",
    "print(\"MAE: \", mae)"
   ]
  },
  {
   "cell_type": "code",
   "execution_count": 261,
   "id": "be7f4820-d4f9-4810-891f-3280449384e5",
   "metadata": {},
   "outputs": [
    {
     "data": {
      "image/png": "[encoded data removed]",
      "text/plain": [
       "<Figure size 640x480 with 1 Axes>"
      ]
     },
     "metadata": {},
     "output_type": "display_data"
    }
   ],
   "source": [
    "plt.scatter(y_test, y_pred)\n",
    "plt.xlabel(\"Actual Values\")\n",
    "plt.ylabel(\"Predicted Values\")\n",
    "plt.title(\"Actual vs Predicted Values\")\n",
    "plt.show()\n"
   ]
  },
  {
   "cell_type": "code",
   "execution_count": 263,
   "id": "c9a84973-9936-4119-a45f-3809a2213b40",
   "metadata": {},
   "outputs": [
    {
     "data": {
      "image/png": "[encoded data removed]",
      "text/plain": [
       "<Figure size 640x480 with 1 Axes>"
      ]
     },
     "metadata": {},
     "output_type": "display_data"
    }
   ],
   "source": [
    "residuals = y_test - y_pred\n",
    "plt.hist(residuals, bins=30)\n",
    "plt.xlabel(\"Residuals\")\n",
    "plt.title(\"Residuals Histogram\")\n",
    "plt.show()"
   ]
  },
  {
   "cell_type": "code",
   "execution_count": 265,
   "id": "8ceffd33-ea2d-437f-a242-7db09e194443",
   "metadata": {},
   "outputs": [
    {
     "name": "stdout",
     "output_type": "stream",
     "text": [
      "Cross-validated R-squared:  0.9751354933265747\n"
     ]
    }
   ],
   "source": [
    "from sklearn.model_selection import cross_val_score\n",
    "\n",
    "cv_scores = cross_val_score(lm, x, y, cv=5, scoring='r2')\n",
    "print(\"Cross-validated R-squared: \", np.mean(cv_scores))"
   ]
  },
  {
   "cell_type": "code",
   "execution_count": null,
   "id": "347db4d4-5ed6-48f3-b012-fdfbd1bd5471",
   "metadata": {},
   "outputs": [],
   "source": []
  }
 ],
 "metadata": {
  "kernelspec": {
   "display_name": "Python 3 (ipykernel)",
   "language": "python",
   "name": "python3"
  },
  "language_info": {
   "codemirror_mode": {
    "name": "ipython",
    "version": 3
   },
   "file_extension": ".py",
   "mimetype": "text/x-python",
   "name": "python",
   "nbconvert_exporter": "python",
   "pygments_lexer": "ipython3",
   "version": "3.11.7"
  }
 },
 "nbformat": 4,
 "nbformat_minor": 5
}
